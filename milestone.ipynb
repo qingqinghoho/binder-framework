{
 "cells": [
  {
   "cell_type": "code",
   "execution_count": 117,
   "metadata": {
    "collapsed": true
   },
   "outputs": [],
   "source": [
    "import numpy as np\n",
    "import pandas as pd\n",
    "import matplotlib as mpl\n",
    "import matplotlib.pyplot as plt"
   ]
  },
  {
   "cell_type": "markdown",
   "metadata": {},
   "source": [
    "Day 4: Pandas"
   ]
  },
  {
   "cell_type": "code",
   "execution_count": 118,
   "metadata": {
    "collapsed": true
   },
   "outputs": [],
   "source": [
    "df = pd.read_csv('C:/Users/liqin/Desktop/TDI 2022 SPRING/milestone/Value_of_Energy_Cost_Savings_Program_Savings_for_Businesses_-_FY2020.csv')"
   ]
  },
  {
   "cell_type": "code",
   "execution_count": 119,
   "metadata": {},
   "outputs": [
    {
     "data": {
      "text/plain": [
       "(450, 26)"
      ]
     },
     "execution_count": 119,
     "metadata": {},
     "output_type": "execute_result"
    }
   ],
   "source": [
    "df.shape"
   ]
  },
  {
   "cell_type": "code",
   "execution_count": 12,
   "metadata": {},
   "outputs": [
    {
     "data": {
      "text/html": [
       "<div>\n",
       "<style scoped>\n",
       "    .dataframe tbody tr th:only-of-type {\n",
       "        vertical-align: middle;\n",
       "    }\n",
       "\n",
       "    .dataframe tbody tr th {\n",
       "        vertical-align: top;\n",
       "    }\n",
       "\n",
       "    .dataframe thead th {\n",
       "        text-align: right;\n",
       "    }\n",
       "</style>\n",
       "<table border=\"1\" class=\"dataframe\">\n",
       "  <thead>\n",
       "    <tr style=\"text-align: right;\">\n",
       "      <th></th>\n",
       "      <th>Postcode</th>\n",
       "      <th>Current fulltime</th>\n",
       "      <th>Job created</th>\n",
       "      <th>Job retain</th>\n",
       "      <th>Total Savings</th>\n",
       "      <th>Savings from beginning receiving benefits</th>\n",
       "      <th>Latitude</th>\n",
       "      <th>Longitude</th>\n",
       "      <th>Community Board</th>\n",
       "      <th>Council District</th>\n",
       "      <th>Census Tract</th>\n",
       "      <th>BIN</th>\n",
       "      <th>BBL</th>\n",
       "    </tr>\n",
       "  </thead>\n",
       "  <tbody>\n",
       "    <tr>\n",
       "      <th>count</th>\n",
       "      <td>450.000000</td>\n",
       "      <td>446.000000</td>\n",
       "      <td>11.000000</td>\n",
       "      <td>14.000000</td>\n",
       "      <td>4.500000e+02</td>\n",
       "      <td>4.500000e+02</td>\n",
       "      <td>409.000000</td>\n",
       "      <td>409.000000</td>\n",
       "      <td>409.000000</td>\n",
       "      <td>409.000000</td>\n",
       "      <td>409.000000</td>\n",
       "      <td>4.010000e+02</td>\n",
       "      <td>4.010000e+02</td>\n",
       "    </tr>\n",
       "    <tr>\n",
       "      <th>mean</th>\n",
       "      <td>11024.124444</td>\n",
       "      <td>124.186099</td>\n",
       "      <td>13.545455</td>\n",
       "      <td>297.500000</td>\n",
       "      <td>3.943778e+04</td>\n",
       "      <td>4.234601e+05</td>\n",
       "      <td>40.722293</td>\n",
       "      <td>-73.942376</td>\n",
       "      <td>317.982885</td>\n",
       "      <td>27.823961</td>\n",
       "      <td>2049.080685</td>\n",
       "      <td>3.295894e+06</td>\n",
       "      <td>3.163398e+09</td>\n",
       "    </tr>\n",
       "    <tr>\n",
       "      <th>std</th>\n",
       "      <td>405.126704</td>\n",
       "      <td>392.750810</td>\n",
       "      <td>16.409532</td>\n",
       "      <td>778.404655</td>\n",
       "      <td>1.345949e+05</td>\n",
       "      <td>1.936066e+06</td>\n",
       "      <td>0.057503</td>\n",
       "      <td>0.065553</td>\n",
       "      <td>93.925749</td>\n",
       "      <td>10.984316</td>\n",
       "      <td>7784.674799</td>\n",
       "      <td>9.897776e+05</td>\n",
       "      <td>9.483943e+08</td>\n",
       "    </tr>\n",
       "    <tr>\n",
       "      <th>min</th>\n",
       "      <td>10001.000000</td>\n",
       "      <td>0.000000</td>\n",
       "      <td>2.000000</td>\n",
       "      <td>4.000000</td>\n",
       "      <td>-1.099101e+05</td>\n",
       "      <td>0.000000e+00</td>\n",
       "      <td>40.555080</td>\n",
       "      <td>-74.216206</td>\n",
       "      <td>101.000000</td>\n",
       "      <td>1.000000</td>\n",
       "      <td>1.000000</td>\n",
       "      <td>1.000811e+06</td>\n",
       "      <td>1.000220e+09</td>\n",
       "    </tr>\n",
       "    <tr>\n",
       "      <th>25%</th>\n",
       "      <td>11101.000000</td>\n",
       "      <td>11.000000</td>\n",
       "      <td>4.000000</td>\n",
       "      <td>15.500000</td>\n",
       "      <td>1.770948e+03</td>\n",
       "      <td>1.498421e+04</td>\n",
       "      <td>40.676351</td>\n",
       "      <td>-73.984843</td>\n",
       "      <td>301.000000</td>\n",
       "      <td>26.000000</td>\n",
       "      <td>20.000000</td>\n",
       "      <td>3.009889e+06</td>\n",
       "      <td>3.006320e+09</td>\n",
       "    </tr>\n",
       "    <tr>\n",
       "      <th>50%</th>\n",
       "      <td>11205.000000</td>\n",
       "      <td>28.000000</td>\n",
       "      <td>10.000000</td>\n",
       "      <td>42.000000</td>\n",
       "      <td>6.101215e+03</td>\n",
       "      <td>5.431184e+04</td>\n",
       "      <td>40.721144</td>\n",
       "      <td>-73.941706</td>\n",
       "      <td>307.000000</td>\n",
       "      <td>30.000000</td>\n",
       "      <td>199.000000</td>\n",
       "      <td>3.336903e+06</td>\n",
       "      <td>3.036760e+09</td>\n",
       "    </tr>\n",
       "    <tr>\n",
       "      <th>75%</th>\n",
       "      <td>11232.000000</td>\n",
       "      <td>76.000000</td>\n",
       "      <td>13.500000</td>\n",
       "      <td>160.750000</td>\n",
       "      <td>2.025603e+04</td>\n",
       "      <td>2.003667e+05</td>\n",
       "      <td>40.752096</td>\n",
       "      <td>-73.909345</td>\n",
       "      <td>402.000000</td>\n",
       "      <td>36.000000</td>\n",
       "      <td>543.000000</td>\n",
       "      <td>4.005076e+06</td>\n",
       "      <td>4.003930e+09</td>\n",
       "    </tr>\n",
       "    <tr>\n",
       "      <th>max</th>\n",
       "      <td>11693.000000</td>\n",
       "      <td>3878.000000</td>\n",
       "      <td>60.000000</td>\n",
       "      <td>2964.000000</td>\n",
       "      <td>1.568982e+06</td>\n",
       "      <td>3.351826e+07</td>\n",
       "      <td>40.890837</td>\n",
       "      <td>-73.743730</td>\n",
       "      <td>503.000000</td>\n",
       "      <td>51.000000</td>\n",
       "      <td>94201.000000</td>\n",
       "      <td>5.168823e+06</td>\n",
       "      <td>5.070670e+09</td>\n",
       "    </tr>\n",
       "  </tbody>\n",
       "</table>\n",
       "</div>"
      ],
      "text/plain": [
       "           Postcode  Current fulltime  Job created   Job retain  \\\n",
       "count    450.000000        446.000000    11.000000    14.000000   \n",
       "mean   11024.124444        124.186099    13.545455   297.500000   \n",
       "std      405.126704        392.750810    16.409532   778.404655   \n",
       "min    10001.000000          0.000000     2.000000     4.000000   \n",
       "25%    11101.000000         11.000000     4.000000    15.500000   \n",
       "50%    11205.000000         28.000000    10.000000    42.000000   \n",
       "75%    11232.000000         76.000000    13.500000   160.750000   \n",
       "max    11693.000000       3878.000000    60.000000  2964.000000   \n",
       "\n",
       "       Total Savings  Savings from beginning receiving benefits    Latitude  \\\n",
       "count   4.500000e+02                               4.500000e+02  409.000000   \n",
       "mean    3.943778e+04                               4.234601e+05   40.722293   \n",
       "std     1.345949e+05                               1.936066e+06    0.057503   \n",
       "min    -1.099101e+05                               0.000000e+00   40.555080   \n",
       "25%     1.770948e+03                               1.498421e+04   40.676351   \n",
       "50%     6.101215e+03                               5.431184e+04   40.721144   \n",
       "75%     2.025603e+04                               2.003667e+05   40.752096   \n",
       "max     1.568982e+06                               3.351826e+07   40.890837   \n",
       "\n",
       "        Longitude  Community Board  Council District  Census Tract  \\\n",
       "count  409.000000       409.000000        409.000000    409.000000   \n",
       "mean   -73.942376       317.982885         27.823961   2049.080685   \n",
       "std      0.065553        93.925749         10.984316   7784.674799   \n",
       "min    -74.216206       101.000000          1.000000      1.000000   \n",
       "25%    -73.984843       301.000000         26.000000     20.000000   \n",
       "50%    -73.941706       307.000000         30.000000    199.000000   \n",
       "75%    -73.909345       402.000000         36.000000    543.000000   \n",
       "max    -73.743730       503.000000         51.000000  94201.000000   \n",
       "\n",
       "                BIN           BBL  \n",
       "count  4.010000e+02  4.010000e+02  \n",
       "mean   3.295894e+06  3.163398e+09  \n",
       "std    9.897776e+05  9.483943e+08  \n",
       "min    1.000811e+06  1.000220e+09  \n",
       "25%    3.009889e+06  3.006320e+09  \n",
       "50%    3.336903e+06  3.036760e+09  \n",
       "75%    4.005076e+06  4.003930e+09  \n",
       "max    5.168823e+06  5.070670e+09  "
      ]
     },
     "execution_count": 12,
     "metadata": {},
     "output_type": "execute_result"
    }
   ],
   "source": [
    "df.describe()"
   ]
  },
  {
   "cell_type": "code",
   "execution_count": 120,
   "metadata": {},
   "outputs": [
    {
     "name": "stdout",
     "output_type": "stream",
     "text": [
      "<class 'pandas.core.frame.DataFrame'>\n",
      "RangeIndex: 450 entries, 0 to 449\n",
      "Data columns (total 26 columns):\n",
      "Company Name                                 450 non-null object\n",
      "company contact                              450 non-null object\n",
      "company email                                433 non-null object\n",
      "company phone                                450 non-null object\n",
      "Address                                      450 non-null object\n",
      "City                                         450 non-null object\n",
      "State                                        450 non-null object\n",
      "Postcode                                     450 non-null int64\n",
      "Industry                                     450 non-null object\n",
      "Industry descr                               434 non-null object\n",
      "Company Type                                 450 non-null object\n",
      "Current fulltime                             446 non-null float64\n",
      "Job created                                  11 non-null float64\n",
      "Job retain                                   14 non-null float64\n",
      "Effective Date                               450 non-null object\n",
      "Total Savings                                450 non-null float64\n",
      "Savings from beginning receiving benefits    450 non-null float64\n",
      "Borough                                      450 non-null object\n",
      "Latitude                                     409 non-null float64\n",
      "Longitude                                    409 non-null float64\n",
      "Community Board                              409 non-null float64\n",
      "Council District                             409 non-null float64\n",
      "Census Tract                                 409 non-null float64\n",
      "BIN                                          401 non-null float64\n",
      "BBL                                          401 non-null float64\n",
      "NTA                                          409 non-null object\n",
      "dtypes: float64(12), int64(1), object(13)\n",
      "memory usage: 91.5+ KB\n"
     ]
    }
   ],
   "source": [
    "df.info()"
   ]
  },
  {
   "cell_type": "code",
   "execution_count": 121,
   "metadata": {},
   "outputs": [
    {
     "data": {
      "text/plain": [
       "Index(['Company Name', 'company contact', 'company email', 'company phone',\n",
       "       'Address', 'City', 'State', 'Postcode', 'Industry', 'Industry descr',\n",
       "       'Company Type', 'Current fulltime', 'Job created', 'Job retain',\n",
       "       'Effective Date', 'Total Savings',\n",
       "       'Savings from beginning receiving benefits', 'Borough', 'Latitude',\n",
       "       'Longitude', 'Community Board', 'Council District', 'Census Tract',\n",
       "       'BIN', 'BBL', 'NTA'],\n",
       "      dtype='object')"
      ]
     },
     "execution_count": 121,
     "metadata": {},
     "output_type": "execute_result"
    }
   ],
   "source": [
    "df.columns"
   ]
  },
  {
   "cell_type": "code",
   "execution_count": 10,
   "metadata": {},
   "outputs": [
    {
     "data": {
      "text/plain": [
       "Company Name                                 450\n",
       "company contact                              450\n",
       "company email                                433\n",
       "company phone                                450\n",
       "Address                                      450\n",
       "City                                         450\n",
       "State                                        450\n",
       "Postcode                                     450\n",
       "Industry                                     450\n",
       "Industry descr                               434\n",
       "Company Type                                 450\n",
       "Current fulltime                             446\n",
       "Job created                                   11\n",
       "Job retain                                    14\n",
       "Effective Date                               450\n",
       "Total Savings                                450\n",
       "Savings from beginning receiving benefits    450\n",
       "Borough                                      450\n",
       "Latitude                                     409\n",
       "Longitude                                    409\n",
       "Community Board                              409\n",
       "Council District                             409\n",
       "Census Tract                                 409\n",
       "BIN                                          401\n",
       "BBL                                          401\n",
       "NTA                                          409\n",
       "dtype: int64"
      ]
     },
     "execution_count": 10,
     "metadata": {},
     "output_type": "execute_result"
    }
   ],
   "source": [
    "df.count()"
   ]
  },
  {
   "cell_type": "code",
   "execution_count": 122,
   "metadata": {},
   "outputs": [
    {
     "data": {
      "text/plain": [
       "450"
      ]
     },
     "execution_count": 122,
     "metadata": {},
     "output_type": "execute_result"
    }
   ],
   "source": [
    "df['Company Name'].count()"
   ]
  },
  {
   "cell_type": "code",
   "execution_count": 123,
   "metadata": {},
   "outputs": [
    {
     "data": {
      "text/plain": [
       "FEDERAL EXPRESS                     3\n",
       "Magellan Aerospace New York, Inc    2\n",
       "FRESH DIRECT LLC                    2\n",
       "Montefiore Medical Center           2\n",
       "Spin Master, Inc.                   2\n",
       "                                   ..\n",
       "Crystal Lake Trading, Inc.          1\n",
       "Carlton House Restoration, Inc.     1\n",
       "Picture Farm II, LLC                1\n",
       "JPR Mechanical Inc.                 1\n",
       "WHBI LLC                            1\n",
       "Name: Company Name, Length: 439, dtype: int64"
      ]
     },
     "execution_count": 123,
     "metadata": {},
     "output_type": "execute_result"
    }
   ],
   "source": [
    "# How many different companies are represented in the data set?\n",
    "df['Company Name'].value_counts(dropna=False)"
   ]
  },
  {
   "cell_type": "code",
   "execution_count": 124,
   "metadata": {},
   "outputs": [
    {
     "data": {
      "text/plain": [
       "102.0"
      ]
     },
     "execution_count": 124,
     "metadata": {},
     "output_type": "execute_result"
    }
   ],
   "source": [
    "# What is the total number of jobs created for businesses in Queens?\n",
    "df[df['Borough']=='Queens']['Job created'].sum()"
   ]
  },
  {
   "cell_type": "code",
   "execution_count": 125,
   "metadata": {},
   "outputs": [
    {
     "data": {
      "text/plain": [
       "433"
      ]
     },
     "execution_count": 125,
     "metadata": {},
     "output_type": "execute_result"
    }
   ],
   "source": [
    "df['company email'].count()"
   ]
  },
  {
   "cell_type": "code",
   "execution_count": 126,
   "metadata": {},
   "outputs": [
    {
     "data": {
      "text/plain": [
       "sam.adamson@fedex.com            3\n",
       "gkesner@silvercupstudios.com     3\n",
       "mwinkle1@yu.edu                  2\n",
       "gregory.schmidt@magellan.aero    2\n",
       "Dave.Barger.@Jetblue.com         2\n",
       "                                ..\n",
       "bjorkcarle@earthlink.net         1\n",
       "ngold@madelainechocolate.com     1\n",
       "seeta.ssj@gmail.com              1\n",
       "kevin.sears@cmcinnis.com         1\n",
       "jw@whitecoffee.com               1\n",
       "Name: company email, Length: 420, dtype: int64"
      ]
     },
     "execution_count": 126,
     "metadata": {},
     "output_type": "execute_result"
    }
   ],
   "source": [
    "df['company email'].value_counts()"
   ]
  },
  {
   "cell_type": "code",
   "execution_count": 127,
   "metadata": {},
   "outputs": [
    {
     "data": {
      "text/plain": [
       "NaN                              17\n",
       "gkesner@silvercupstudios.com      3\n",
       "sam.adamson@fedex.com             3\n",
       "gregory.schmidt@magellan.aero     2\n",
       "Dave.Barger.@Jetblue.com          2\n",
       "                                 ..\n",
       "bjorkcarle@earthlink.net          1\n",
       "ngold@madelainechocolate.com      1\n",
       "seeta.ssj@gmail.com               1\n",
       "kevin.sears@cmcinnis.com          1\n",
       "gm3343388@aol.com                 1\n",
       "Name: company email, Length: 421, dtype: int64"
      ]
     },
     "execution_count": 127,
     "metadata": {},
     "output_type": "execute_result"
    }
   ],
   "source": [
    "df['company email'].value_counts(dropna=False)"
   ]
  },
  {
   "cell_type": "code",
   "execution_count": 128,
   "metadata": {},
   "outputs": [
    {
     "data": {
      "text/plain": [
       "421"
      ]
     },
     "execution_count": 128,
     "metadata": {},
     "output_type": "execute_result"
    }
   ],
   "source": [
    "df['company email'].nunique(dropna=False)"
   ]
  },
  {
   "cell_type": "code",
   "execution_count": 129,
   "metadata": {},
   "outputs": [
    {
     "data": {
      "text/plain": [
       "420"
      ]
     },
     "execution_count": 129,
     "metadata": {},
     "output_type": "execute_result"
    }
   ],
   "source": [
    "# How many different unique email domains names are there in the data set?\n",
    "df['company email'].nunique()"
   ]
  },
  {
   "cell_type": "code",
   "execution_count": 130,
   "metadata": {},
   "outputs": [],
   "source": [
    "# Considering only NTAs with at least 5 listed businesses, what is the total savings and the total jobs created for each NTA?\n",
    "df_nta = df.dropna(subset=['NTA'])"
   ]
  },
  {
   "cell_type": "code",
   "execution_count": 131,
   "metadata": {},
   "outputs": [],
   "source": [
    "nta_groups = df_nta.groupby('NTA')"
   ]
  },
  {
   "cell_type": "code",
   "execution_count": 132,
   "metadata": {},
   "outputs": [
    {
     "data": {
      "text/plain": [
       "400"
      ]
     },
     "execution_count": 132,
     "metadata": {},
     "output_type": "execute_result"
    }
   ],
   "source": [
    "df_nta['Company Name'].nunique()"
   ]
  },
  {
   "cell_type": "code",
   "execution_count": 133,
   "metadata": {},
   "outputs": [],
   "source": [
    "df_nta_with_five_company = nta_groups.filter(lambda x: x['Company Name'].count() >= 5)"
   ]
  },
  {
   "cell_type": "code",
   "execution_count": 134,
   "metadata": {},
   "outputs": [
    {
     "data": {
      "text/plain": [
       "20"
      ]
     },
     "execution_count": 134,
     "metadata": {},
     "output_type": "execute_result"
    }
   ],
   "source": [
    "df_nta_with_five_company['NTA'].nunique()"
   ]
  },
  {
   "cell_type": "code",
   "execution_count": 135,
   "metadata": {
    "collapsed": true
   },
   "outputs": [],
   "source": [
    "df_result = (df_nta_with_five_company.groupby('NTA', as_index=False)\n",
    "       .agg( {'Total Savings': 'mean', 'Job created': 'sum'})\n",
    "       .rename(columns={'Total Savings':'avg savings', 'Job created':'total job created'}))"
   ]
  },
  {
   "cell_type": "code",
   "execution_count": 136,
   "metadata": {},
   "outputs": [
    {
     "data": {
      "text/html": [
       "<div>\n",
       "<style scoped>\n",
       "    .dataframe tbody tr th:only-of-type {\n",
       "        vertical-align: middle;\n",
       "    }\n",
       "\n",
       "    .dataframe tbody tr th {\n",
       "        vertical-align: top;\n",
       "    }\n",
       "\n",
       "    .dataframe thead th {\n",
       "        text-align: right;\n",
       "    }\n",
       "</style>\n",
       "<table border=\"1\" class=\"dataframe\">\n",
       "  <thead>\n",
       "    <tr style=\"text-align: right;\">\n",
       "      <th></th>\n",
       "      <th>NTA</th>\n",
       "      <th>avg savings</th>\n",
       "      <th>total job created</th>\n",
       "    </tr>\n",
       "  </thead>\n",
       "  <tbody>\n",
       "    <tr>\n",
       "      <th>0</th>\n",
       "      <td>Battery Park City-Lower Manhattan</td>\n",
       "      <td>469890.796667</td>\n",
       "      <td>0.0</td>\n",
       "    </tr>\n",
       "    <tr>\n",
       "      <th>1</th>\n",
       "      <td>Bushwick South</td>\n",
       "      <td>26140.455000</td>\n",
       "      <td>10.0</td>\n",
       "    </tr>\n",
       "    <tr>\n",
       "      <th>2</th>\n",
       "      <td>Carroll Gardens-Columbia Street-Red Hook</td>\n",
       "      <td>24337.390000</td>\n",
       "      <td>0.0</td>\n",
       "    </tr>\n",
       "    <tr>\n",
       "      <th>3</th>\n",
       "      <td>College Point</td>\n",
       "      <td>17159.372857</td>\n",
       "      <td>2.0</td>\n",
       "    </tr>\n",
       "    <tr>\n",
       "      <th>4</th>\n",
       "      <td>Crown Heights North</td>\n",
       "      <td>4036.298889</td>\n",
       "      <td>0.0</td>\n",
       "    </tr>\n",
       "    <tr>\n",
       "      <th>5</th>\n",
       "      <td>DUMBO-Vinegar Hill-Downtown Brooklyn-Boerum Hill</td>\n",
       "      <td>59950.340000</td>\n",
       "      <td>0.0</td>\n",
       "    </tr>\n",
       "    <tr>\n",
       "      <th>6</th>\n",
       "      <td>East New York</td>\n",
       "      <td>48433.093333</td>\n",
       "      <td>15.0</td>\n",
       "    </tr>\n",
       "    <tr>\n",
       "      <th>7</th>\n",
       "      <td>East Williamsburg</td>\n",
       "      <td>13990.626364</td>\n",
       "      <td>0.0</td>\n",
       "    </tr>\n",
       "    <tr>\n",
       "      <th>8</th>\n",
       "      <td>Greenpoint</td>\n",
       "      <td>9753.649286</td>\n",
       "      <td>0.0</td>\n",
       "    </tr>\n",
       "    <tr>\n",
       "      <th>9</th>\n",
       "      <td>Hunters Point-Sunnyside-West Maspeth</td>\n",
       "      <td>23931.398933</td>\n",
       "      <td>0.0</td>\n",
       "    </tr>\n",
       "    <tr>\n",
       "      <th>10</th>\n",
       "      <td>Hunts Point</td>\n",
       "      <td>39246.016154</td>\n",
       "      <td>12.0</td>\n",
       "    </tr>\n",
       "    <tr>\n",
       "      <th>11</th>\n",
       "      <td>Manhattanville</td>\n",
       "      <td>2760.888889</td>\n",
       "      <td>0.0</td>\n",
       "    </tr>\n",
       "    <tr>\n",
       "      <th>12</th>\n",
       "      <td>Maspeth</td>\n",
       "      <td>6658.283333</td>\n",
       "      <td>10.0</td>\n",
       "    </tr>\n",
       "    <tr>\n",
       "      <th>13</th>\n",
       "      <td>Mott Haven-Port Morris</td>\n",
       "      <td>17843.937857</td>\n",
       "      <td>10.0</td>\n",
       "    </tr>\n",
       "    <tr>\n",
       "      <th>14</th>\n",
       "      <td>Queensbridge-Ravenswood-Long Island City</td>\n",
       "      <td>61830.770625</td>\n",
       "      <td>0.0</td>\n",
       "    </tr>\n",
       "    <tr>\n",
       "      <th>15</th>\n",
       "      <td>SoHo-TriBeCa-Civic Center-Little Italy</td>\n",
       "      <td>37214.024000</td>\n",
       "      <td>0.0</td>\n",
       "    </tr>\n",
       "    <tr>\n",
       "      <th>16</th>\n",
       "      <td>Springfield Gardens South-Brookville</td>\n",
       "      <td>17757.662000</td>\n",
       "      <td>0.0</td>\n",
       "    </tr>\n",
       "    <tr>\n",
       "      <th>17</th>\n",
       "      <td>Steinway</td>\n",
       "      <td>11227.155714</td>\n",
       "      <td>20.0</td>\n",
       "    </tr>\n",
       "    <tr>\n",
       "      <th>18</th>\n",
       "      <td>Sunset Park West</td>\n",
       "      <td>14316.976875</td>\n",
       "      <td>0.0</td>\n",
       "    </tr>\n",
       "    <tr>\n",
       "      <th>19</th>\n",
       "      <td>park-cemetery-etc-Brooklyn</td>\n",
       "      <td>14327.419333</td>\n",
       "      <td>0.0</td>\n",
       "    </tr>\n",
       "  </tbody>\n",
       "</table>\n",
       "</div>"
      ],
      "text/plain": [
       "                                                 NTA    avg savings  \\\n",
       "0                  Battery Park City-Lower Manhattan  469890.796667   \n",
       "1                                     Bushwick South   26140.455000   \n",
       "2           Carroll Gardens-Columbia Street-Red Hook   24337.390000   \n",
       "3                                      College Point   17159.372857   \n",
       "4                                Crown Heights North    4036.298889   \n",
       "5   DUMBO-Vinegar Hill-Downtown Brooklyn-Boerum Hill   59950.340000   \n",
       "6                                      East New York   48433.093333   \n",
       "7                                  East Williamsburg   13990.626364   \n",
       "8                                         Greenpoint    9753.649286   \n",
       "9               Hunters Point-Sunnyside-West Maspeth   23931.398933   \n",
       "10                                       Hunts Point   39246.016154   \n",
       "11                                    Manhattanville    2760.888889   \n",
       "12                                           Maspeth    6658.283333   \n",
       "13                            Mott Haven-Port Morris   17843.937857   \n",
       "14          Queensbridge-Ravenswood-Long Island City   61830.770625   \n",
       "15            SoHo-TriBeCa-Civic Center-Little Italy   37214.024000   \n",
       "16              Springfield Gardens South-Brookville   17757.662000   \n",
       "17                                          Steinway   11227.155714   \n",
       "18                                  Sunset Park West   14316.976875   \n",
       "19                        park-cemetery-etc-Brooklyn   14327.419333   \n",
       "\n",
       "    total job created  \n",
       "0                 0.0  \n",
       "1                10.0  \n",
       "2                 0.0  \n",
       "3                 2.0  \n",
       "4                 0.0  \n",
       "5                 0.0  \n",
       "6                15.0  \n",
       "7                 0.0  \n",
       "8                 0.0  \n",
       "9                 0.0  \n",
       "10               12.0  \n",
       "11                0.0  \n",
       "12               10.0  \n",
       "13               10.0  \n",
       "14                0.0  \n",
       "15                0.0  \n",
       "16                0.0  \n",
       "17               20.0  \n",
       "18                0.0  \n",
       "19                0.0  "
      ]
     },
     "execution_count": 136,
     "metadata": {},
     "output_type": "execute_result"
    }
   ],
   "source": [
    "df_result"
   ]
  },
  {
   "cell_type": "code",
   "execution_count": 137,
   "metadata": {},
   "outputs": [],
   "source": [
    "# Save your result for the previous question as a CSV file.\n",
    "df_result.to_csv('C:/Users/liqin/Desktop/TDI 2022 SPRING/milestone/result.csv',index=False)"
   ]
  },
  {
   "cell_type": "markdown",
   "metadata": {},
   "source": [
    "Day 5: Plotting"
   ]
  },
  {
   "cell_type": "code",
   "execution_count": 145,
   "metadata": {
    "collapsed": true
   },
   "outputs": [],
   "source": [
    "import matplotlib as mpl\n",
    "import matplotlib.pyplot as plt\n",
    "import numpy as np"
   ]
  },
  {
   "cell_type": "code",
   "execution_count": 146,
   "metadata": {},
   "outputs": [],
   "source": [
    "# scatter plot of jobs created versus average savings. Use both a standard and a logarithmic scale for the average savings.\n",
    "fig, (ax1, ax2) = plt.subplots(1, 2, figsize=(10, 2.7))\n",
    "ax1.scatter('avg savings', 'total job created', data=df_result)\n",
    "ax1.set_xlabel('avg savings')\n",
    "ax1.set_ylabel('total job created');\n",
    "\n",
    "ax2.scatter('avg savings', 'total job created', data=df_result)\n",
    "ax2.set_xscale('log')\n",
    "ax2.set_xlabel('avg savings')\n",
    "ax2.set_ylabel('total job created');"
   ]
  },
  {
   "cell_type": "code",
   "execution_count": 147,
   "metadata": {
    "collapsed": true
   },
   "outputs": [],
   "source": [
    "# histogram of the log of the average total savings.\n",
    "fig, ax = plt.subplots(figsize=(5, 2.7))\n",
    "\n",
    "n, bins, patches = ax.hist(df_result['avg savings'], 50, density=1, facecolor='C0', alpha=0.75)\n",
    "\n",
    "ax.set_xscale('log')\n",
    "ax.set_xlabel('avg savings')\n",
    "ax.set_ylabel('Probability')\n",
    "# ax.set_title('')\n",
    "# ax.text(75, .025, r'$\\mu=115,\\ \\sigma=15$')\n",
    "# ax.axis([55, 175, 0, 0.03])\n",
    "ax.grid(True);"
   ]
  },
  {
   "cell_type": "code",
   "execution_count": 148,
   "metadata": {},
   "outputs": [
    {
     "data": {
      "image/png": "[encoded data removed]",
      "text/plain": [
       "<Figure size 720x194.4 with 2 Axes>"
      ]
     },
     "metadata": {},
     "output_type": "display_data"
    },
    {
     "data": {
      "image/png": "[encoded data removed]",
      "text/plain": [
       "<Figure size 720x194.4 with 2 Axes>"
      ]
     },
     "metadata": {},
     "output_type": "display_data"
    },
    {
     "data": {
      "image/png": "[encoded data removed]",
      "text/plain": [
       "<Figure size 360x194.4 with 1 Axes>"
      ]
     },
     "metadata": {},
     "output_type": "display_data"
    },
    {
     "data": {
      "image/png": "[encoded data removed]",
      "text/plain": [
       "<Figure size 432x288 with 1 Axes>"
      ]
     },
     "metadata": {},
     "output_type": "display_data"
    }
   ],
   "source": [
    "# line plot of the total jobs created for each month\n",
    "\n",
    "# drop all rows without jobs or effective dates\n",
    "new_df = df[['Effective Date','Job created']].dropna()\n",
    "# convert strings to datetimes\n",
    "new_df['Effective Date'] = pd.to_datetime(new_df['Effective Date'])\n",
    "new_df['month'] = new_df['Effective Date'].apply(lambda x: x.month)\n",
    "# add up jobs in months\n",
    "new_df = new_df.groupby('month').sum()\n",
    "# set jobs = 0 for months that aren't represented\n",
    "new_df = new_df.reindex(list(range(1,13)),fill_value=0)\n",
    "\n",
    "x = np.array(new_df.index)\n",
    "y = np.array(new_df['Job created'])\n",
    "fig = plt.figure('line plot')\n",
    "plt.plot(x,y)\n",
    "plt.xlabel('month')\n",
    "plt.ylabel('total jobs created')\n",
    "plt.title('Jobs created per month')\n",
    "plt.show()"
   ]
  },
  {
   "cell_type": "code",
   "execution_count": null,
   "metadata": {
    "collapsed": true
   },
   "outputs": [],
   "source": []
  }
 ],
 "metadata": {
  "kernelspec": {
   "display_name": "Python 3",
   "language": "python",
   "name": "python3"
  },
  "language_info": {
   "codemirror_mode": {
    "name": "ipython",
    "version": 3
   },
   "file_extension": ".py",
   "mimetype": "text/x-python",
   "name": "python",
   "nbconvert_exporter": "python",
   "pygments_lexer": "ipython3",
   "version": "3.6.3"
  }
 },
 "nbformat": 4,
 "nbformat_minor": 2
}
